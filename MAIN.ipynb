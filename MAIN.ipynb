{
 "cells": [
  {
   "cell_type": "markdown",
   "metadata": {},
   "source": [
    "Notebook commun pour le projet\n"
   ]
  },
  {
   "cell_type": "markdown",
   "metadata": {},
   "source": [
    "Groupe Emission:"
   ]
  },
  {
   "cell_type": "code",
   "execution_count": 4,
   "metadata": {},
   "outputs": [],
   "source": [
    "import numpy as np \n",
    "import matplotlib.pyplot as plt\n",
    "import numba as nb\n",
    "import cython as cy\n",
    "import scipy\n",
    "import const\n"
   ]
  },
  {
   "cell_type": "markdown",
   "metadata": {},
   "source": [
    "Retour point par point sur les différentes fonctions définies et vérification de leur cohérence:\n"
   ]
  },
  {
   "cell_type": "markdown",
   "metadata": {},
   "source": [
    "Définition du paramètre $\\Gamma$ avec les fonctions de Bessel et $\\xi$"
   ]
  },
  {
   "cell_type": "markdown",
   "metadata": {},
   "source": [
    "On a d'après l'équation (12):\n",
    "$$ \\Gamma = \\frac{K_{3}(\\xi)}{K_{2}(\\xi)} - \\frac{1}{\\xi}    $$\n",
    "Sachant que par analyse dimensionnelle $\\xi$ est sans unité"
   ]
  },
  {
   "cell_type": "code",
   "execution_count": 6,
   "metadata": {},
   "outputs": [],
   "source": [
    "#Définition des fonctions de Bessel de première espèce (avec une limite finie en 0)\n",
    "def K1(x) :\n",
    "    return scipy.special.kn(1, x)\n",
    "\n",
    "def K2(x) :\n",
    "    return scipy.special.kn(2, x)\n",
    "\n",
    "def K3(x) :\n",
    "    return scipy.special.kn(3, x)\n",
    "\n"
   ]
  },
  {
   "cell_type": "code",
   "execution_count": 7,
   "metadata": {},
   "outputs": [],
   "source": [
    "def xi():\n",
    "    def eq(x):\n",
    "        return 4*K2(x)/(x*(3*K3(x) + K1(x) -4*K2(x))) - x*(const.k_b**2)/(const.m_p**2)*(const.celer**4)*((K3(x)/K2(x)) - (1/x) - 1)\n",
    "    guess = 0.0\n",
    "    sol = scipy.optimize.root(eq, guess) \n",
    "    return sol"
   ]
  },
  {
   "cell_type": "markdown",
   "metadata": {},
   "source": [
    "On définit maintenant la fonction $\\hat{\\gamma}'$:"
   ]
  },
  {
   "cell_type": "code",
   "execution_count": 2,
   "metadata": {},
   "outputs": [],
   "source": [
    "def gamma_chapeau_p():\n",
    "    return 1 + 4*K2(xi())/(xi()*(3*K3(xi()) + K1(xi()) -4*K2(xi())))\n",
    "\n",
    "def gamma_maj(gamma_sh):\n",
    "    def eq5(x):\n",
    "        return (x + 1)*(1 + gamma_chapeau_p()*(x - 1))/(2 + gamma_chapeau_p()*(2 - gamma_chapeau_p())*(x - 1)) - gamma_sh()**2\n",
    "    guess = 0.0\n",
    "    sol = scipy.optimize.root(eq5,guess) \n",
    "    return sol\n",
    "\n",
    "\n"
   ]
  },
  {
   "cell_type": "markdown",
   "metadata": {},
   "source": [
    "Définition de la fonction $\\frac{e_{i}}{n '}$ :"
   ]
  },
  {
   "cell_type": "code",
   "execution_count": 11,
   "metadata": {},
   "outputs": [],
   "source": [
    "def e_i_p(gamma_maj, gamma_sh):\n",
    "    return const.m_p*((const.celer)**2)(gamma_maj(gamma_sh) - 1)\n",
    "\n"
   ]
  },
  {
   "cell_type": "code",
   "execution_count": 8,
   "metadata": {},
   "outputs": [],
   "source": [
    "epsi_b = 4.12*(1/np.power(10,5))\n",
    "def gamma_prime_c(n0,epsilon_B, gamma_sh,t):\n",
    "    return (3 * const.m_e * const.celer* gamma_maj(gamma_sh)) / (4 * const.sigma_T * epsilon_B *e_i_p(gamma_maj, gamma_sh) * t*n0)\n",
    "\n",
    "def gamma_prime_m(p, gamma_maj, gamma_sh):\n",
    "    arg = ((p - 2)*const.m_p/(p - 1)*const.m_e)*const.epsi_e*(gamma_maj(gamma_sh) - 1)\n",
    "    return np.max(1, arg)\n",
    "\n",
    "\n"
   ]
  },
  {
   "cell_type": "markdown",
   "metadata": {},
   "source": [
    "Définition de la fonction B'(T):"
   ]
  },
  {
   "cell_type": "code",
   "execution_count": 10,
   "metadata": {},
   "outputs": [],
   "source": [
    "def n_prime(gamma_maj,gamma_sh,n0):\n",
    "    return n0*(gamma_chapeau_p()*gamma_maj(gamma_sh) + 1)/(gamma_chapeau_p() - 1)\n",
    "\n",
    "\n",
    "def B_prime(epsilonB, gamma_sh,n0):\n",
    "    return (np.sqrt(8*const.pi*epsilonB*e_i_p(gamma_maj,gamma_chapeau_p, gamma_sh,n0)))\n",
    "\n",
    "\n"
   ]
  },
  {
   "cell_type": "code",
   "execution_count": 9,
   "metadata": {},
   "outputs": [],
   "source": [
    "def nu_prime_m(epsilon_B, gamma_sh,n0 ):\n",
    "    return 3/16 * gamma_prime_m()**2 * const.q_e*B_prime(epsilon_B,gamma_maj,gamma_chapeau_p, gamma_sh,n0) / (const.m_e * const.celer)\n",
    "\n",
    "def nu_prime_c(n0,epsilon_B, t, gamma_sh):\n",
    "    return 3/16 * gamma_prime_c(n0,epsilon_B,gamma_sh, t)**2 * const.q_e *B_prime(epsilon_B, gamma_sh, n0) / (const.m_e * const.celer)"
   ]
  },
  {
   "cell_type": "markdown",
   "metadata": {},
   "source": [
    "Pour la fonction d'émission qui est définie dans le papier par les équations (24) et (25) la renormalisation nous donne:\n",
    "\n",
    "$$ x = \\frac{\\nu'}{\\nu_{m}'}$$\n",
    "Pour déterminer le régime de refroidissement on définit un rapport \n",
    "$$ \\kappa = \\frac{\\nu_{c}'(\\epsilon_{B},t)}{\\nu_{m}'(\\epsilon_{B})}$$\n",
    "on obtient donc:\n",
    "Si $\\kappa > 1$:\n",
    "\n",
    " \\[ $$ \\frac{\\epsilon_{\\nu'}'}{\\epsilon_{\\nu', p}'} =$$\n",
    "\\begin{cases}\n",
    "\\text{$x^{\\frac{1}{3}}$  pour  $x <1$} \\\\\n",
    "\\text{$x^{-(p-1)/2}$ pour  $1\\leq x \\leq \\kappa$} \\\\\n",
    "\\text{$\\kappa^{-1/2} x^{-p/2}$ pour  $\\kappa < x$}\n",
    "\\end{cases}\n",
    "\\]\n",
    "\n",
    "Si $\\kappa \\leq 1$:\n",
    "\n",
    " \\[ $$ \\frac{\\epsilon_{\\nu'}'}{\\epsilon_{\\nu', p}'} =$$\n",
    "\\begin{cases}\n",
    "\\text{$x^{\\frac{1}{3}} \\kappa^{-1/3}$  pour  $x <\\kappa$} \\\\\n",
    "\\text{$\\kappa^{1/2} x^{-1/2}$ pour  $\\kappa\\leq x < 1$} \\\\\n",
    "\\text{$\\kappa^{-1/2} x^{-p/2}$ pour  $1  \\leq x$}\n",
    "\\end{cases}\n",
    "\\]"
   ]
  },
  {
   "cell_type": "code",
   "execution_count": 13,
   "metadata": {},
   "outputs": [],
   "source": [
    "#Pour la fonction d'émission on renormalise tout:\n",
    "epsi_b_gaussianJ = 2.44*(1/np.power(10,4))\n",
    "epsi_b_hollow_coneJ = 4.12*(1/np.power(10,5))\n",
    "epsi_b_SpindleJ = 6.60*(1/np.power(10,4))\n",
    "#pour l'instant en première approximation on prend p = 2.05\n",
    "\n",
    "\n",
    "def power_I(x,y):\n",
    "    return 1/np.power(x,y)\n",
    "\n",
    "#Rapport de comparaison pour les refroidissemts entre nu_prim_c et nu_prim_m\n",
    "def Kappa(n0,epsilon_B,t,gamma_sh):\n",
    "    return nu_prime_c(n0, epsilon_B, gamma_sh,t)/nu_prime_m(epsilon_B, gamma_sh, n0)\n"
   ]
  },
  {
   "cell_type": "code",
   "execution_count": 100,
   "metadata": {},
   "outputs": [
    {
     "ename": "TypeError",
     "evalue": "'float' object is not callable",
     "output_type": "error",
     "traceback": [
      "\u001b[1;31m---------------------------------------------------------------------------\u001b[0m",
      "\u001b[1;31mTypeError\u001b[0m                                 Traceback (most recent call last)",
      "Cell \u001b[1;32mIn[100], line 14\u001b[0m\n\u001b[0;32m     10\u001b[0m FastcEmission_vect \u001b[38;5;241m=\u001b[39m np\u001b[38;5;241m.\u001b[39mvectorize(\u001b[38;5;28;01mlambda\u001b[39;00m x: FastcEmission(x, Kappa,p,epsi_b_gaussianJ,n0,t,T1))\n\u001b[0;32m     13\u001b[0m x \u001b[38;5;241m=\u001b[39m np\u001b[38;5;241m.\u001b[39mlinspace(\u001b[38;5;241m0\u001b[39m,\u001b[38;5;241m10\u001b[39m,\u001b[38;5;241m5000\u001b[39m)\n\u001b[1;32m---> 14\u001b[0m plt\u001b[38;5;241m.\u001b[39mplot(x,FastcEmission_vect(x))\n\u001b[0;32m     15\u001b[0m plt\u001b[38;5;241m.\u001b[39mtitle(\u001b[38;5;124m\"\u001b[39m\u001b[38;5;124mEmissivity function for hollow-cone jet\u001b[39m\u001b[38;5;124m\"\u001b[39m)\n\u001b[0;32m     16\u001b[0m plt\u001b[38;5;241m.\u001b[39mxlabel(\u001b[38;5;124m\"\u001b[39m\u001b[38;5;124mx\u001b[39m\u001b[38;5;124m\"\u001b[39m)\n",
      "File \u001b[1;32mc:\\miniconda\\envs\\ProjetInfo\\Lib\\site-packages\\numpy\\lib\\function_base.py:2372\u001b[0m, in \u001b[0;36mvectorize.__call__\u001b[1;34m(self, *args, **kwargs)\u001b[0m\n\u001b[0;32m   2369\u001b[0m     \u001b[38;5;28mself\u001b[39m\u001b[38;5;241m.\u001b[39m_init_stage_2(\u001b[38;5;241m*\u001b[39margs, \u001b[38;5;241m*\u001b[39m\u001b[38;5;241m*\u001b[39mkwargs)\n\u001b[0;32m   2370\u001b[0m     \u001b[38;5;28;01mreturn\u001b[39;00m \u001b[38;5;28mself\u001b[39m\n\u001b[1;32m-> 2372\u001b[0m \u001b[38;5;28;01mreturn\u001b[39;00m \u001b[38;5;28mself\u001b[39m\u001b[38;5;241m.\u001b[39m_call_as_normal(\u001b[38;5;241m*\u001b[39margs, \u001b[38;5;241m*\u001b[39m\u001b[38;5;241m*\u001b[39mkwargs)\n",
      "File \u001b[1;32mc:\\miniconda\\envs\\ProjetInfo\\Lib\\site-packages\\numpy\\lib\\function_base.py:2365\u001b[0m, in \u001b[0;36mvectorize._call_as_normal\u001b[1;34m(self, *args, **kwargs)\u001b[0m\n\u001b[0;32m   2362\u001b[0m     vargs \u001b[38;5;241m=\u001b[39m [args[_i] \u001b[38;5;28;01mfor\u001b[39;00m _i \u001b[38;5;129;01min\u001b[39;00m inds]\n\u001b[0;32m   2363\u001b[0m     vargs\u001b[38;5;241m.\u001b[39mextend([kwargs[_n] \u001b[38;5;28;01mfor\u001b[39;00m _n \u001b[38;5;129;01min\u001b[39;00m names])\n\u001b[1;32m-> 2365\u001b[0m \u001b[38;5;28;01mreturn\u001b[39;00m \u001b[38;5;28mself\u001b[39m\u001b[38;5;241m.\u001b[39m_vectorize_call(func\u001b[38;5;241m=\u001b[39mfunc, args\u001b[38;5;241m=\u001b[39mvargs)\n",
      "File \u001b[1;32mc:\\miniconda\\envs\\ProjetInfo\\Lib\\site-packages\\numpy\\lib\\function_base.py:2450\u001b[0m, in \u001b[0;36mvectorize._vectorize_call\u001b[1;34m(self, func, args)\u001b[0m\n\u001b[0;32m   2448\u001b[0m     res \u001b[38;5;241m=\u001b[39m func()\n\u001b[0;32m   2449\u001b[0m \u001b[38;5;28;01melse\u001b[39;00m:\n\u001b[1;32m-> 2450\u001b[0m     ufunc, otypes \u001b[38;5;241m=\u001b[39m \u001b[38;5;28mself\u001b[39m\u001b[38;5;241m.\u001b[39m_get_ufunc_and_otypes(func\u001b[38;5;241m=\u001b[39mfunc, args\u001b[38;5;241m=\u001b[39margs)\n\u001b[0;32m   2452\u001b[0m     \u001b[38;5;66;03m# Convert args to object arrays first\u001b[39;00m\n\u001b[0;32m   2453\u001b[0m     inputs \u001b[38;5;241m=\u001b[39m [asanyarray(a, dtype\u001b[38;5;241m=\u001b[39m\u001b[38;5;28mobject\u001b[39m) \u001b[38;5;28;01mfor\u001b[39;00m a \u001b[38;5;129;01min\u001b[39;00m args]\n",
      "File \u001b[1;32mc:\\miniconda\\envs\\ProjetInfo\\Lib\\site-packages\\numpy\\lib\\function_base.py:2410\u001b[0m, in \u001b[0;36mvectorize._get_ufunc_and_otypes\u001b[1;34m(self, func, args)\u001b[0m\n\u001b[0;32m   2406\u001b[0m     \u001b[38;5;28;01mraise\u001b[39;00m \u001b[38;5;167;01mValueError\u001b[39;00m(\u001b[38;5;124m'\u001b[39m\u001b[38;5;124mcannot call `vectorize` on size 0 inputs \u001b[39m\u001b[38;5;124m'\u001b[39m\n\u001b[0;32m   2407\u001b[0m                      \u001b[38;5;124m'\u001b[39m\u001b[38;5;124munless `otypes` is set\u001b[39m\u001b[38;5;124m'\u001b[39m)\n\u001b[0;32m   2409\u001b[0m inputs \u001b[38;5;241m=\u001b[39m [arg\u001b[38;5;241m.\u001b[39mflat[\u001b[38;5;241m0\u001b[39m] \u001b[38;5;28;01mfor\u001b[39;00m arg \u001b[38;5;129;01min\u001b[39;00m args]\n\u001b[1;32m-> 2410\u001b[0m outputs \u001b[38;5;241m=\u001b[39m func(\u001b[38;5;241m*\u001b[39minputs)\n\u001b[0;32m   2412\u001b[0m \u001b[38;5;66;03m# Performance note: profiling indicates that -- for simple\u001b[39;00m\n\u001b[0;32m   2413\u001b[0m \u001b[38;5;66;03m# functions at least -- this wrapping can almost double the\u001b[39;00m\n\u001b[0;32m   2414\u001b[0m \u001b[38;5;66;03m# execution time.\u001b[39;00m\n\u001b[0;32m   2415\u001b[0m \u001b[38;5;66;03m# Hence we make it optional.\u001b[39;00m\n\u001b[0;32m   2416\u001b[0m \u001b[38;5;28;01mif\u001b[39;00m \u001b[38;5;28mself\u001b[39m\u001b[38;5;241m.\u001b[39mcache:\n",
      "Cell \u001b[1;32mIn[100], line 10\u001b[0m, in \u001b[0;36m<lambda>\u001b[1;34m(x)\u001b[0m\n\u001b[0;32m      7\u001b[0m         power_I(Kappa(n0,epsilon_B,t,T),\u001b[38;5;241m-\u001b[39m\u001b[38;5;241m1\u001b[39m\u001b[38;5;241m/\u001b[39m\u001b[38;5;241m2\u001b[39m)\u001b[38;5;241m*\u001b[39mpower_I(x,\u001b[38;5;241m-\u001b[39mp\u001b[38;5;241m/\u001b[39m\u001b[38;5;241m2\u001b[39m)\n\u001b[0;32m      9\u001b[0m T1 \u001b[38;5;241m=\u001b[39m \u001b[38;5;241m10\u001b[39m\u001b[38;5;241m*\u001b[39m\u001b[38;5;241m*\u001b[39m\u001b[38;5;241m14\u001b[39m\n\u001b[1;32m---> 10\u001b[0m FastcEmission_vect \u001b[38;5;241m=\u001b[39m np\u001b[38;5;241m.\u001b[39mvectorize(\u001b[38;5;28;01mlambda\u001b[39;00m x: FastcEmission(x, Kappa,p,epsi_b_gaussianJ,n0,t,T1))\n\u001b[0;32m     13\u001b[0m x \u001b[38;5;241m=\u001b[39m np\u001b[38;5;241m.\u001b[39mlinspace(\u001b[38;5;241m0\u001b[39m,\u001b[38;5;241m10\u001b[39m,\u001b[38;5;241m5000\u001b[39m)\n\u001b[0;32m     14\u001b[0m plt\u001b[38;5;241m.\u001b[39mplot(x,FastcEmission_vect(x))\n",
      "Cell \u001b[1;32mIn[100], line 2\u001b[0m, in \u001b[0;36mFastcEmission\u001b[1;34m(n0, x, Kappa, p, epsilon_B, t, T)\u001b[0m\n\u001b[0;32m      1\u001b[0m \u001b[38;5;28;01mdef\u001b[39;00m \u001b[38;5;21mFastcEmission\u001b[39m(n0,x, Kappa,p,epsilon_B,t,T):\n\u001b[1;32m----> 2\u001b[0m     \u001b[38;5;28;01mif\u001b[39;00m x \u001b[38;5;241m>\u001b[39m Kappa(n0,epsilon_B,t,T):\n\u001b[0;32m      3\u001b[0m         \u001b[38;5;28;01mreturn\u001b[39;00m np\u001b[38;5;241m.\u001b[39mpower(Kappa(n0,epsilon_B,t,T),\u001b[38;5;241m-\u001b[39m\u001b[38;5;241m1\u001b[39m\u001b[38;5;241m/\u001b[39m\u001b[38;5;241m3\u001b[39m)\u001b[38;5;241m*\u001b[39mnp\u001b[38;5;241m.\u001b[39mpower(x,\u001b[38;5;241m1\u001b[39m\u001b[38;5;241m/\u001b[39m\u001b[38;5;241m3\u001b[39m)\n\u001b[0;32m      4\u001b[0m     \u001b[38;5;28;01melif\u001b[39;00m x \u001b[38;5;241m>\u001b[39m\u001b[38;5;241m=\u001b[39m Kappa(n0,epsilon_B,t,T) \u001b[38;5;129;01mand\u001b[39;00m x \u001b[38;5;241m<\u001b[39m\u001b[38;5;241m1\u001b[39m:\n",
      "\u001b[1;31mTypeError\u001b[0m: 'float' object is not callable"
     ]
    }
   ],
   "source": [
    "def FastcEmission(n0,x, Kappa,p,epsilon_B,t,gamma_sh):\n",
    "    if x > Kappa(n0,epsilon_B,t,gamma_sh):\n",
    "        return np.power(Kappa(n0,epsilon_B,t,gamma_sh),-1/3)*np.power(x,1/3)\n",
    "    elif x >= Kappa(n0,epsilon_B,t,gamma_sh) and x <1:\n",
    "        return np.power(Kappa(n0,epsilon_B,t,gamma_sh),1/2)*power_I(x,-1/2)\n",
    "    else:\n",
    "        power_I(Kappa(n0,epsilon_B,t,gamma_sh),-1/2)*power_I(x,-p/2)\n",
    "\n",
    "FastcEmission_vect = np.vectorize(lambda x: FastcEmission(x, Kappa,p,epsi_b_gaussianJ,n0,t,gamma_sh))"
   ]
  },
  {
   "cell_type": "code",
   "execution_count": 95,
   "metadata": {},
   "outputs": [],
   "source": [
    "\n",
    "\n",
    "\n",
    "#Cas du slow-cooling\n",
    "def SlowcEmission(x,Kappa,p,epsilon_B,t,gamma_sh,n0):\n",
    "    if x < 1:\n",
    "        return np.power(x,1/3)\n",
    "    elif x>=1 and x < Kappa(n0,epsilon_B,t,gamma_sh):\n",
    "        return power_I(x,-(p-1)/2)\n",
    "    else:\n",
    "        return power_I(Kappa(n0,epsilon_B,t,gamma_sh),-1/2)*power_I(-p/2)\n",
    "\n",
    "T1 = 10**14\n",
    "\n",
    "#Vectorisation des fonctions liées aux régimes de refroidissement\n",
    "SlowcEmission_vect = np.vectorize(lambda x: SlowcEmission(x,Kappa,p,epsi_b_gaussianJ,n0,t,T1))\n",
    "FastcEmission_vect = np.vectorize(lambda x: FastcEmission(x, Kappa,p,epsi_b_gaussianJ,n0,t,T1))\n",
    "\n",
    "\n",
    "#Fonction d'émission\n",
    "def Emission_function(n0,Kappa,x,epsilon_B,t,gamma_sh):\n",
    "    if Kappa(n0,epsilon_B,t,gamma_sh) > 1:\n",
    "        return SlowcEmission_vect(x)\n",
    "    else:\n",
    "        return FastcEmission_vect(x)\n",
    "\n",
    "    \n",
    "\n"
   ]
  },
  {
   "cell_type": "code",
   "execution_count": 97,
   "metadata": {},
   "outputs": [
    {
     "ename": "ValueError",
     "evalue": "The truth value of an array with more than one element is ambiguous. Use a.any() or a.all()",
     "output_type": "error",
     "traceback": [
      "\u001b[1;31m---------------------------------------------------------------------------\u001b[0m",
      "\u001b[1;31mValueError\u001b[0m                                Traceback (most recent call last)",
      "Cell \u001b[1;32mIn[97], line 2\u001b[0m\n\u001b[0;32m      1\u001b[0m x \u001b[38;5;241m=\u001b[39m np\u001b[38;5;241m.\u001b[39mlinspace(\u001b[38;5;241m0\u001b[39m,\u001b[38;5;241m10\u001b[39m,\u001b[38;5;241m5000\u001b[39m)\n\u001b[1;32m----> 2\u001b[0m y_H \u001b[38;5;241m=\u001b[39m Emission_function(Kappa,x,p,epsi_b_hollow_coneJ,t,T1)\n\u001b[0;32m      3\u001b[0m plt\u001b[38;5;241m.\u001b[39mplot(x,y_H)\n\u001b[0;32m      4\u001b[0m plt\u001b[38;5;241m.\u001b[39mtitle(\u001b[38;5;124m\"\u001b[39m\u001b[38;5;124mEmissivity function for hollow-cone jet\u001b[39m\u001b[38;5;124m\"\u001b[39m)\n",
      "Cell \u001b[1;32mIn[95], line 41\u001b[0m, in \u001b[0;36mEmission_function\u001b[1;34m(Kappa, x, p, epsilon_B, t, T)\u001b[0m\n\u001b[0;32m     40\u001b[0m \u001b[38;5;28;01mdef\u001b[39;00m \u001b[38;5;21mEmission_function\u001b[39m(Kappa,x,p,epsilon_B,t,T):\n\u001b[1;32m---> 41\u001b[0m     \u001b[38;5;28;01mif\u001b[39;00m Kappa(n0,epsilon_B,t,T) \u001b[38;5;241m>\u001b[39m \u001b[38;5;241m1\u001b[39m:\n\u001b[0;32m     42\u001b[0m         \u001b[38;5;28;01mreturn\u001b[39;00m SlowcEmission_vect(x)\n\u001b[0;32m     43\u001b[0m     \u001b[38;5;28;01melse\u001b[39;00m:\n",
      "\u001b[1;31mValueError\u001b[0m: The truth value of an array with more than one element is ambiguous. Use a.any() or a.all()"
     ]
    }
   ],
   "source": [
    "x = np.linspace(0,10,5000)\n",
    "y_H = Emission_function(Kappa,x,p,epsi_b_hollow_coneJ,t,T1)\n",
    "plt.plot(x,y_H)\n",
    "plt.title(\"Emissivity function for hollow-cone jet\")\n",
    "plt.xlabel(\"x\")\n",
    "plt.ylabel(\"$\\frac{\\epsilon_{\\nu'}'}{\\epsilon_{\\nu', p}'}\")\n",
    "plt.show()"
   ]
  },
  {
   "cell_type": "markdown",
   "metadata": {},
   "source": [
    "Groupe équation 31"
   ]
  },
  {
   "cell_type": "code",
   "execution_count": null,
   "metadata": {},
   "outputs": [],
   "source": []
  }
 ],
 "metadata": {
  "kernelspec": {
   "display_name": "ProjetInfo",
   "language": "python",
   "name": "python3"
  },
  "language_info": {
   "codemirror_mode": {
    "name": "ipython",
    "version": 3
   },
   "file_extension": ".py",
   "mimetype": "text/x-python",
   "name": "python",
   "nbconvert_exporter": "python",
   "pygments_lexer": "ipython3",
   "version": "3.11.7"
  }
 },
 "nbformat": 4,
 "nbformat_minor": 2
}
