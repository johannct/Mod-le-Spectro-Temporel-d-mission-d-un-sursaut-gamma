{
 "cells": [
  {
   "cell_type": "markdown",
   "metadata": {},
   "source": [
    "Notebook commun pour le projet\n"
   ]
  },
  {
   "cell_type": "markdown",
   "metadata": {},
   "source": [
    "Groupe Emission:"
   ]
  },
  {
   "cell_type": "code",
   "execution_count": 2,
   "metadata": {},
   "outputs": [],
   "source": [
    "from tools import min,max,choix_1,choix_2\n",
    "import numpy as np \n",
    "import matplotlib.pyplot as plt\n",
    "import scipy.constants as const\n",
    "import numba as nb\n",
    "import cython as cy"
   ]
  },
  {
   "cell_type": "code",
   "execution_count": null,
   "metadata": {},
   "outputs": [],
   "source": [
    "\n",
    "gamma_chapeau_prime = 1 #TODO : Find the value of gamma_chapeau_prime\n",
    "sigma_T = (8 *const.Pi / 3 ) *  const.physical_constants['classical electron radius'][0]**2\n",
    "P_prime = 1 #Gas pressure #TODO: Find the value of P_prime\n",
    "e_prime_i = P_prime / (gamma_chapeau_prime - 1) \n",
    "def B_prime(epsilon_B):\n",
    "    return np.sqrt(8 * const.pi * epsilon_B * e_prime_i) #TODO : Find e_prime_i\n",
    "beta_u = shock_speed()\n",
    "beta_d = 1 #TODO : Find the value of beta_d\n",
    "\n",
    "p = (3*beta_u - 2*beta_u * beta_d**2 + beta_d**3) / (beta_u - beta_d) - 2 \n",
    "\n",
    "gamma_maj = 1 #TODO : Find the value of gamma_maj\n",
    "def gamma_prime_c(epsilon_B, t):\n",
    "    return (3 * const.electron_mass * const.c * gamma_maj) / (4 * sigma_T * epsilon_B * e_prime_i * t) #TODO : t ???\n",
    "\n",
    "gamma_prime_m = max(1, (p - 2) / (p - 1) * const.proton_mass / const.electron_mass * epsilon_e *(gamma_maj -1))\n",
    "\n",
    "\n",
    "def n_prime(no):\n",
    "    return no * ((gamma_chapeau_prime * gamma_maj +1)/ (gamma_chapeau_prime -1))\n",
    "\n",
    "\n",
    "def n_prime_R(no): \n",
    "    return n_prime(no) * min(1, (p - 2) / (p - 1) * const.proton_mass / const.electron_mass * epsilon_e *(gamma_maj -1))\n",
    "\n",
    "def epsilon_prime_nu_prime_p(p, epsilon_B, no):\n",
    "    return 0.88 * 256 / 27 * (p - 1) / (3*p -1) * const.elementary_charge**3 / (const.electron_mass * const.c**2) * n_prime_R(no) * B_prime(epsilon_B)\n",
    "TODO : #verify \"elementary charge\"\n",
    "\n",
    "def nu_prime_m(epsilon_B):\n",
    "    return 3/16 * gamma_prime_m**2 * const.elementary_charge * B_prime(epsilon_B) / (const.electron_mass * const.c)\n",
    "\n",
    "def nu_prime_c(epsilon_B, t):\n",
    "    return 3/16 * gamma_prime_c(epsilon_B, t)**2 * const.elementary_charge * B_prime(epsilon_B) / (const.electron_mass * const.c)\n",
    "\n",
    "\n",
    "\n",
    "def epsilon_prime_nu_prime(epsilon_B, no, t, p, nu_prime):\n",
    "    if nu_prime_m <= nu_prime_c: \n",
    "        return epsilon_prime_nu_prime_p(p, epsilon_B, no) * choix_1(nu_prime, nu_prime_m(epsilon_B), nu_prime_c(epsilon_B, t), p)\n",
    "    else:\n",
    "        return epsilon_prime_nu_prime_p(p, epsilon_B, no) * choix_2(nu_prime, nu_prime_c(epsilon_B, t), nu_prime_m(epsilon_B), p)"
   ]
  },
  {
   "cell_type": "markdown",
   "metadata": {},
   "source": [
    "Groupe équation 31"
   ]
  },
  {
   "cell_type": "code",
   "execution_count": null,
   "metadata": {},
   "outputs": [],
   "source": []
  }
 ],
 "metadata": {
  "kernelspec": {
   "display_name": "ProjetInfo",
   "language": "python",
   "name": "python3"
  },
  "language_info": {
   "codemirror_mode": {
    "name": "ipython",
    "version": 3
   },
   "file_extension": ".py",
   "mimetype": "text/x-python",
   "name": "python",
   "nbconvert_exporter": "python",
   "pygments_lexer": "ipython3",
   "version": "3.11.7"
  }
 },
 "nbformat": 4,
 "nbformat_minor": 2
}
