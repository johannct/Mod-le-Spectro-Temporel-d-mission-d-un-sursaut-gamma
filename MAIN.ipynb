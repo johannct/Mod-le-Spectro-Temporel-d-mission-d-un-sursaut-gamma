{
 "cells": [
  {
   "cell_type": "markdown",
   "metadata": {},
   "source": [
    "Notebook commun pour le projet\n"
   ]
  },
  {
   "cell_type": "markdown",
   "metadata": {},
   "source": [
    "Groupe Emission:"
   ]
  },
  {
   "cell_type": "code",
   "execution_count": 14,
   "metadata": {},
   "outputs": [],
   "source": [
    "import numpy as np \n",
    "import matplotlib.pyplot as plt\n",
    "import numba as nb\n",
    "import cython as cy\n",
    "import scipy\n",
    "import const\n"
   ]
  },
  {
   "cell_type": "code",
   "execution_count": 12,
   "metadata": {},
   "outputs": [
    {
     "ename": "SyntaxError",
     "evalue": "invalid syntax (2014495165.py, line 43)",
     "output_type": "error",
     "traceback": [
      "\u001b[1;36m  Cell \u001b[1;32mIn[12], line 43\u001b[1;36m\u001b[0m\n\u001b[1;33m    TODO : #verify \"elementary charge\"\u001b[0m\n\u001b[1;37m           ^\u001b[0m\n\u001b[1;31mSyntaxError\u001b[0m\u001b[1;31m:\u001b[0m invalid syntax\n"
     ]
    }
   ],
   "source": [
    "\"\"\"\n",
    "gamma_chapeau_prime = 1 #TODO : Find the value of gamma_chapeau_prime\n",
    "sigma_T = (8 *const.pi / 3 ) *  const.physical_constants['classical electron radius'][0]**2\n",
    "P_prime = 1 \n",
    "e_prime_i = P_prime / (gamma_chapeau_prime - 1) \n",
    "def B_prime(epsilon_B):\n",
    "    return np.sqrt(8 * const.pi * epsilon_B * e_prime_i) #TODO : Find e_prime_i\n",
    "beta_d = 1 #TODO : Find the value of beta_d\n",
    "\n",
    "def K1(x) :\n",
    "    return scipy.special.kn(1, x)\n",
    "\n",
    "def K2(x) :\n",
    "    return scipy.special.kn(2, x)\n",
    "\n",
    "def K3(x) :\n",
    "    return scipy.special.kn(3, x)\n",
    "\n",
    "## constantes de scipy \n",
    "mp = scipy.constants.m_p\n",
    "c = scipy.constants.c\n",
    "kB = scipy.constants.k\n",
    "epsilon_e = 0.1\n",
    "## constantes du sujet \n",
    "T_prime = 10**14 # en Kelvin bien sûr \n",
    "\n",
    "zeta = mp * c**2/(kB*T_prime)\n",
    "gamma_maj = K3(zeta) /K2(zeta) - 1/zeta\n",
    "def gamma_prime_c(epsilon_B, t):\n",
    "    return (3 * const.electron_mass * const.c * gamma_maj) / (4 * sigma_T * epsilon_B * e_prime_i * t) #TODO : t ???\n",
    "\n",
    "gamma_prime_m = max(1, (p - 2) / (p - 1) * const.proton_mass / const.electron_mass * epsilon_e *(gamma_maj -1))\n",
    "\n",
    "\n",
    "def n_prime(no):\n",
    "    return no * ((gamma_chapeau_prime * gamma_maj +1)/ (gamma_chapeau_prime -1))\n",
    "\n",
    "\n",
    "def n_prime_R(no): \n",
    "    return n_prime(no) * min(1, (p - 2) / (p - 1) * const.proton_mass / const.electron_mass * epsilon_e *(gamma_maj -1))\n",
    "\n",
    "def epsilon_prime_nu_prime_p(p, epsilon_B, no):\n",
    "    return 0.88 * 256 / 27 * (p - 1) / (3*p -1) * const.elementary_charge**3 / (const.electron_mass * const.c**2) * n_prime_R(no) * B_prime(epsilon_B)\n",
    "TODO : #verify \"elementary charge\"\n",
    "\n",
    "def nu_prime_m(epsilon_B):\n",
    "    return 3/16 * gamma_prime_m**2 * const.elementary_charge * B_prime(epsilon_B) / (const.electron_mass * const.c)\n",
    "\n",
    "def nu_prime_c(epsilon_B, t):\n",
    "    return 3/16 * gamma_prime_c(epsilon_B, t)**2 * const.elementary_charge * B_prime(epsilon_B) / (const.electron_mass * const.c)\n",
    "\n",
    "\n",
    "\n",
    "def epsilon_prime_nu_prime(epsilon_B, no, t, p, nu_prime):\n",
    "    if nu_prime_m <= nu_prime_c: \n",
    "        return epsilon_prime_nu_prime_p(p, epsilon_B, no) * choix_1(nu_prime, nu_prime_m(epsilon_B), nu_prime_c(epsilon_B, t), p)\n",
    "    else:\n",
    "        return epsilon_prime_nu_prime_p(p, epsilon_B, no) * choix_2(nu_prime, nu_prime_c(epsilon_B, t), nu_prime_m(epsilon_B), p)\n",
    "        \"\"\""
   ]
  },
  {
   "cell_type": "code",
   "execution_count": 38,
   "metadata": {},
   "outputs": [
    {
     "data": {
      "image/png": "[encoded data removed]",
      "text/plain": [
       "<Figure size 640x480 with 1 Axes>"
      ]
     },
     "metadata": {},
     "output_type": "display_data"
    }
   ],
   "source": [
    "#Première approximation auxiliaire de la fonction liée à l'émission (on fixera la valeur de gamma dans notre cas, \n",
    "#celle-ci se calcule à l'aide des différentes fonctions de Bessel\n",
    "#On peut se donner une \"constante\" kappa qui est nuprimec/nuprimem\n",
    "#Les paramètres que l'on a fixé : p; gamma_chapeau_prime; gamma_maj; \n",
    "\"\"\"\n",
    "n0 = 1/np.power(10,3)\n",
    "epsilon_e = 0.14\n",
    "epsi_b_gaussianJ = 2.44*(1/np.power(10,4))\n",
    "epsi_b_hollow_coneJ = 4.12*(1/np.power(10,5))\n",
    "epsi_b_SpindleJ = 6.60*(1/np.power(10,4))\n",
    "p = 2.05\n",
    "\n",
    "gamma_chapeau_prime = 2\n",
    "sigma_T = (8 *const.pi / 3 ) *  const.physical_constants['classical electron radius'][0]**2\n",
    "\n",
    "P_prime = 1 \n",
    "e_prime_i = P_prime / (gamma_chapeau_prime - 1) \n",
    "gamma_maj = 2\n",
    "\n",
    "def n_prime(no):\n",
    "    return no * ((gamma_chapeau_prime * gamma_maj +1)/ (gamma_chapeau_prime -1))\n",
    "def power_I(x,y):\n",
    "    return 1/np.power(x,y)\n",
    "def B_prime(epsilon_B):\n",
    "    return np.sqrt(8 * const.pi * epsilon_B * e_prime_i)\n",
    "def epsilon_prime_nu_prime_p(p, epsilon_B, no):\n",
    "    return 0.88 * 256 / 27 * (p - 1) / (3*p -1) * const.elementary_charge**3 / (const.electron_mass * const.c**2) * n_prime_R(no) * B_prime(epsilon_B)\n",
    "                                                                                                                                                                                                                                    \n",
    "#On nomralise les fonctions, on prend en plus p = 2\n",
    "\n",
    "def gamma_prime_m(p):\n",
    "    return np.maximum(1, (p - 2) / (p - 1) * const.proton_mass / const.electron_mass * epsilon_e *(gamma_maj -1))\n",
    "\n",
    "def gamma_prime_c(epsilon_B, t):\n",
    "    return (3 * const.electron_mass * const.c * gamma_maj) / (4 * sigma_T * epsilon_B * e_prime_i * t)\n",
    "\n",
    "def n_prime_R(no): \n",
    "    return n_prime(no) * min(1, (p - 2) / (p - 1) * const.proton_mass / const.electron_mass * epsilon_e *(gamma_maj -1))\n",
    "def nu_prime_m(epsilon_B):\n",
    "    return 3/16 * gamma_prime_m(p)**2 * const.elementary_charge * B_prime(epsilon_B) / (const.electron_mass * const.c)\n",
    "def nu_prime_c(epsilon_B, t):\n",
    "    return 3/16 * gamma_prime_c(epsilon_B, t)**2 * const.elementary_charge * B_prime(epsilon_B) / (const.electron_mass * const.c)\n",
    "\n",
    "def Kappa(epsilon_B,t):\n",
    "    return nu_prime_c(epsilon_B,t)/nu_prime_m(epsilon_B)\n",
    "\n",
    "def SlowcEmission(x,Kappa,p,epsilon_B,no,t):\n",
    "    if x < 1:\n",
    "        return np.power(x,1/3)*epsilon_prime_nu_prime_p(p,epsilon_B,no)\n",
    "    elif x>=1 and x < Kappa(epsilon_B,t):\n",
    "        return epsilon_prime_nu_prime_p(p,epsilon_B,no)*power_I(x,-(p-1)/2)\n",
    "    else:\n",
    "        return power_I(Kappa(epsilon_B,t),-1/2)*power_I(-p/2)*epsilon_prime_nu_prime_p(p,epsilon_B,no)\n",
    "    \n",
    "def FastcEmission(x, Kappa,p,epsilon_B,no,t):\n",
    "    if x > Kappa(epsilon_B,t):\n",
    "        return epsilon_prime_nu_prime_p(p,epsilon_B,no)*np.power(Kappa(epsilon_B,t),-1/3)*np.power(x,1/3)\n",
    "    elif x >= Kappa(epsilon_B,t) and x <1:\n",
    "        return epsilon_prime_nu_prime_p(p,epsilon_B,no)*np.power(Kappa(epsilon_B,t),1/2)*power_I(x,-1/2)\n",
    "    else:\n",
    "        epsilon_prime_nu_prime_p(p,epsilon_B,no)*power_I(Kappa(epsilon_B,t),-1/2)*power_I(x,-p/2)\n",
    "        \n",
    "\n",
    "t = 10\n",
    "\n",
    "\n",
    "SlowcEmission_vect = np.vectorize(lambda x: SlowcEmission(x,Kappa,p,epsi_b_gaussianJ,n0,t))\n",
    "FastcEmission_vect = np.vectorize(lambda x: FastcEmission(x, Kappa,p,epsi_b_gaussianJ,n0,t))\n",
    "def Emission_function(Kappa,x,no,p,epsilon_B,t):\n",
    "    if Kappa(epsilon_B,t) > 1:\n",
    "        return SlowcEmission_vect(x)\n",
    "    else:\n",
    "        return FastcEmission_vect(x)\n",
    "x = np.linspace(0,10,5000)\n",
    "\n",
    "y_g = Emission_function(Kappa,x,n0,p,epsi_b_gaussianJ,t)\n",
    "plt.plot(x,y_g)\n",
    "plt.title(\"Emissivity function for Gaussian jet\")\n",
    "plt.xlabel(\"x\")\n",
    "plt.show()\n",
    "\n",
    "    \"\"\"\n",
    "                                                                                                    \n"
   ]
  },
  {
   "cell_type": "markdown",
   "metadata": {},
   "source": [
    "Retour point par point sur les différentes fonctions définies et vérification de leur cohérence:\n"
   ]
  },
  {
   "cell_type": "markdown",
   "metadata": {},
   "source": [
    "Définition du paramètre $\\Gamma$ avec les fonctions de Bessel et $\\xi$"
   ]
  },
  {
   "cell_type": "markdown",
   "metadata": {},
   "source": [
    "On a d'après l'équation (12):\n",
    "$$ \\Gamma = \\frac{K_{3}(\\xi)}{K_{2}(\\xi)} - \\frac{1}{\\xi}    $$\n",
    "Sachant que par analyse dimensionnelle $\\xi$ est sans unité"
   ]
  },
  {
   "cell_type": "code",
   "execution_count": 49,
   "metadata": {},
   "outputs": [
    {
     "data": {
      "image/png": "[encoded data removed]",
      "text/plain": [
       "<Figure size 640x480 with 1 Axes>"
      ]
     },
     "metadata": {},
     "output_type": "display_data"
    }
   ],
   "source": [
    "#Définition de Xi:\n",
    "def xi(T):\n",
    "    return (const.m_p*scipy.constants.c**2)/(const.k_b*T)\n",
    "\n",
    "T = np.linspace(10**12,10**14,10000)\n",
    "res = xi(T)\n",
    "plt.plot(T,xi(T))\n",
    "plt.title(\"Gas temperature\")\n",
    "plt.xlabel(\"T (K)\")\n",
    "plt.ylabel(r\"$\\xi $\")\n",
    "plt.show()\n",
    "\n"
   ]
  },
  {
   "cell_type": "code",
   "execution_count": 50,
   "metadata": {},
   "outputs": [
    {
     "data": {
      "image/png": "[encoded data removed]",
      "text/plain": [
       "<Figure size 640x480 with 1 Axes>"
      ]
     },
     "metadata": {},
     "output_type": "display_data"
    }
   ],
   "source": [
    "#Définition des fonctions de Bessel de première espèce (avec une limite finie en 0)\n",
    "def K1(T) :\n",
    "    return scipy.special.kn(1, xi(T))\n",
    "\n",
    "def K2(x) :\n",
    "    return scipy.special.kn(2, xi(T))\n",
    "\n",
    "def K3(x) :\n",
    "    return scipy.special.kn(3, xi(T))\n",
    "def gamma_maj(T):\n",
    "    return (K3(xi(T))/K2(xi(T)) - 1/xi(T))\n",
    "\n",
    "plt.plot(T,gamma_maj(T))\n",
    "plt.title(\"Lorentz factor of the shocked fluid\")\n",
    "plt.xlabel(\"T (K)\")\n",
    "plt.ylabel(r\"$\\Gamma $\")\n",
    "plt.show()\n",
    "\n"
   ]
  },
  {
   "cell_type": "code",
   "execution_count": null,
   "metadata": {},
   "outputs": [],
   "source": [
    "e_prime_i = P_prime / (gamma_chapeau_prime - 1) \n",
    "gamma_maj = 2\n",
    "def gamma_prime_m(p):\n",
    "    return np.maximum(1, (p - 2) / (p - 1) * const.m_p / const.m_e * epsilon_e *(gamma_maj -1))\n",
    "\n",
    "def gamma_prime_c(epsilon_B, t):\n",
    "    return (3 * const.m_e * const.c * gamma_maj) / (4 * const.sigma_T * epsilon_B * e_prime_i * t)"
   ]
  },
  {
   "cell_type": "markdown",
   "metadata": {},
   "source": []
  },
  {
   "cell_type": "code",
   "execution_count": null,
   "metadata": {},
   "outputs": [],
   "source": [
    "def nu_prime_m(epsilon_B):\n",
    "    return 3/16 * gamma_prime_m(p)**2 * const.q_e*B_prime(epsilon_B) / (const.m_e * const.c)\n",
    "def nu_prime_c(epsilon_B, t):\n",
    "    return 3/16 * gamma_prime_c(epsilon_B, t)**2 * const.q_e *B_prime(epsilon_B) / (const.m_e * const.c)"
   ]
  },
  {
   "cell_type": "markdown",
   "metadata": {},
   "source": [
    "Pour la fonction d'émission qui est définie dans le papier par les équations (24) et (25) la renormalisation nous donne:\n",
    "\n",
    "$$ x = \\frac{\\nu'}{\\nu_{m}'}$$\n",
    "Pour déterminer le régime de refroidissement on définit un rapport \n",
    "$$ \\kappa = \\frac{\\nu_{c}'(\\epsilon_{B},t)}{\\nu_{m}'(\\epsilon_{B})}$$\n",
    "on obtient donc:\n",
    "Si $\\kappa > 1$:\n",
    "\n",
    " \\[ $$ \\frac{\\epsilon_{\\nu'}'}{\\epsilon_{\\nu', p}'} =$$\n",
    "\\begin{cases}\n",
    "\\text{$x^{\\frac{1}{3}}$  pour  $x <1$} \\\\\n",
    "\\text{$x^{-(p-1)/2}$ pour  $1\\leq x \\leq \\kappa$} \\\\\n",
    "\\text{$\\kappa^{-1/2} x^{-p/2}$ pour  $\\kappa < x$}\n",
    "\\end{cases}\n",
    "\\]\n",
    "\n",
    "Si $\\kappa \\leq 1$:\n",
    "\n",
    " \\[ $$ \\frac{\\epsilon_{\\nu'}'}{\\epsilon_{\\nu', p}'} =$$\n",
    "\\begin{cases}\n",
    "\\text{$x^{\\frac{1}{3}} \\kappa^{-1/3}$  pour  $x <\\kappa$} \\\\\n",
    "\\text{$\\kappa^{1/2} x^{-1/2}$ pour  $\\kappa\\leq x < 1$} \\\\\n",
    "\\text{$\\kappa^{-1/2} x^{-p/2}$ pour  $1  \\leq x$}\n",
    "\\end{cases}\n",
    "\\]"
   ]
  },
  {
   "cell_type": "code",
   "execution_count": 4,
   "metadata": {},
   "outputs": [],
   "source": [
    "#Pour la fonction d'émission on renormalise tout:\n",
    "n0 = 1/np.power(10,3)\n",
    "epsilon_e = 0.14\n",
    "epsi_b_gaussianJ = 2.44*(1/np.power(10,4))\n",
    "epsi_b_hollow_coneJ = 4.12*(1/np.power(10,5))\n",
    "epsi_b_SpindleJ = 6.60*(1/np.power(10,4))\n",
    "#pour l'instant en première approximation on prend p = 2.05\n",
    "p = 2.05\n",
    "\n",
    "def power_I(x,y):\n",
    "    return 1/np.power(x,y)\n",
    "\n",
    "#Rapport de comparaison pour les refroidissemts entre nu_prim_c et nu_prim_m\n",
    "def Kappa(epsilon_B,t):\n",
    "    return nu_prime_c(epsilon_B,t)/nu_prime_m(epsilon_B)\n",
    "\n",
    "#Cas du Fasct-cooling\n",
    "def FastcEmission(x, Kappa,p,epsilon_B,t):\n",
    "    if x > Kappa(epsilon_B,t):\n",
    "        return np.power(Kappa(epsilon_B,t),-1/3)*np.power(x,1/3)\n",
    "    elif x >= Kappa(epsilon_B,t) and x <1:\n",
    "        return np.power(Kappa(epsilon_B,t),1/2)*power_I(x,-1/2)\n",
    "    else:\n",
    "        power_I(Kappa(epsilon_B,t),-1/2)*power_I(x,-p/2)\n",
    "#Cas du slow-cooling\n",
    "def SlowcEmission(x,Kappa,p,epsilon_B,t):\n",
    "    if x < 1:\n",
    "        return np.power(x,1/3)\n",
    "    elif x>=1 and x < Kappa(epsilon_B,t):\n",
    "        return power_I(x,-(p-1)/2)\n",
    "    else:\n",
    "        return power_I(Kappa(epsilon_B,t),-1/2)*power_I(-p/2)\n",
    "\n",
    "#Vectorisation des fonctions liées aux régimes de refroidissement\n",
    "SlowcEmission_vect = np.vectorize(lambda x: SlowcEmission(x,Kappa,p,epsi_b_gaussianJ,n0,t))\n",
    "FastcEmission_vect = np.vectorize(lambda x: FastcEmission(x, Kappa,p,epsi_b_gaussianJ,n0,t))\n",
    "\n",
    "\n",
    "#Fonction d'émission\n",
    "def Emission_function(Kappa,x,p,epsilon_B,t):\n",
    "    if Kappa(epsilon_B,t) > 1:\n",
    "        return SlowcEmission_vect(x)\n",
    "    else:\n",
    "        return FastcEmission_vect(x)\n",
    "\n",
    "    \n",
    "    \n",
    "#Pour l'instant on fixe t = 10   \n",
    "t = 10"
   ]
  },
  {
   "cell_type": "code",
   "execution_count": 5,
   "metadata": {},
   "outputs": [
    {
     "ename": "NameError",
     "evalue": "name 'nu_prime_c' is not defined",
     "output_type": "error",
     "traceback": [
      "\u001b[1;31m---------------------------------------------------------------------------\u001b[0m",
      "\u001b[1;31mNameError\u001b[0m                                 Traceback (most recent call last)",
      "Cell \u001b[1;32mIn[5], line 2\u001b[0m\n\u001b[0;32m      1\u001b[0m x \u001b[38;5;241m=\u001b[39m np\u001b[38;5;241m.\u001b[39mlinspace(\u001b[38;5;241m0\u001b[39m,\u001b[38;5;241m10\u001b[39m,\u001b[38;5;241m5000\u001b[39m)\n\u001b[1;32m----> 2\u001b[0m y_H \u001b[38;5;241m=\u001b[39m Emission_function(Kappa,x,p,epsi_b_hollow_coneJ,t)\n\u001b[0;32m      3\u001b[0m plt\u001b[38;5;241m.\u001b[39mplot(x,y_H)\n\u001b[0;32m      4\u001b[0m plt\u001b[38;5;241m.\u001b[39mtitle(\u001b[38;5;124m\"\u001b[39m\u001b[38;5;124mEmissivity function for hollow-cone jet\u001b[39m\u001b[38;5;124m\"\u001b[39m)\n",
      "Cell \u001b[1;32mIn[4], line 41\u001b[0m, in \u001b[0;36mEmission_function\u001b[1;34m(Kappa, x, p, epsilon_B, t)\u001b[0m\n\u001b[0;32m     40\u001b[0m \u001b[38;5;28;01mdef\u001b[39;00m \u001b[38;5;21mEmission_function\u001b[39m(Kappa,x,p,epsilon_B,t):\n\u001b[1;32m---> 41\u001b[0m     \u001b[38;5;28;01mif\u001b[39;00m Kappa(epsilon_B,t) \u001b[38;5;241m>\u001b[39m \u001b[38;5;241m1\u001b[39m:\n\u001b[0;32m     42\u001b[0m         \u001b[38;5;28;01mreturn\u001b[39;00m SlowcEmission_vect(x)\n\u001b[0;32m     43\u001b[0m     \u001b[38;5;28;01melse\u001b[39;00m:\n",
      "Cell \u001b[1;32mIn[4], line 15\u001b[0m, in \u001b[0;36mKappa\u001b[1;34m(epsilon_B, t)\u001b[0m\n\u001b[0;32m     14\u001b[0m \u001b[38;5;28;01mdef\u001b[39;00m \u001b[38;5;21mKappa\u001b[39m(epsilon_B,t):\n\u001b[1;32m---> 15\u001b[0m     \u001b[38;5;28;01mreturn\u001b[39;00m nu_prime_c(epsilon_B,t)\u001b[38;5;241m/\u001b[39mnu_prime_m(epsilon_B)\n",
      "\u001b[1;31mNameError\u001b[0m: name 'nu_prime_c' is not defined"
     ]
    }
   ],
   "source": [
    "x = np.linspace(0,10,5000)\n",
    "y_H = Emission_function(Kappa,x,p,epsi_b_hollow_coneJ,t)\n",
    "plt.plot(x,y_H)\n",
    "plt.title(\"Emissivity function for hollow-cone jet\")\n",
    "plt.xlabel(\"x\")\n",
    "plt.ylabel(\"$\\frac{\\epsilon_{\\nu'}'}{\\epsilon_{\\nu', p}'}\")\n",
    "plt.show()"
   ]
  },
  {
   "cell_type": "markdown",
   "metadata": {},
   "source": [
    "Groupe équation 31"
   ]
  },
  {
   "cell_type": "code",
   "execution_count": null,
   "metadata": {},
   "outputs": [],
   "source": []
  }
 ],
 "metadata": {
  "kernelspec": {
   "display_name": "ProjetInfo",
   "language": "python",
   "name": "python3"
  },
  "language_info": {
   "codemirror_mode": {
    "name": "ipython",
    "version": 3
   },
   "file_extension": ".py",
   "mimetype": "text/x-python",
   "name": "python",
   "nbconvert_exporter": "python",
   "pygments_lexer": "ipython3",
   "version": "3.11.7"
  }
 },
 "nbformat": 4,
 "nbformat_minor": 2
}
