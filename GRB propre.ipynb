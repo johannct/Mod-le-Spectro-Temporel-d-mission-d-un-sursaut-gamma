{
 "cells": [
  {
   "cell_type": "code",
   "execution_count": 8,
   "metadata": {},
   "outputs": [],
   "source": [
    "import numpy as np \n",
    "import matplotlib.pyplot as plt\n",
    "import numba as nb\n",
    "import cython as cy\n",
    "import scipy\n",
    "import const\n",
    "from scipy import *\n",
    "from scipy.integrate import odeint\n",
    "import math as m"
   ]
  },
  {
   "cell_type": "code",
   "execution_count": 14,
   "metadata": {},
   "outputs": [],
   "source": [
    "import numpy as np\n",
    "import matplotlib.pyplot as plt\n",
    "\n",
    "# Paramètres constants\n",
    "c = 3 * 10**8  # Vitesse de la lumière en m/s\n",
    "mp = 1.67e-27  # Masse du proton en kg\n",
    "Gamma_sh_max = 100  # Facteur de Lorentz maximal du choc\n",
    "E = 10**43  # Énergie isotrope équivalente en joules\n",
    "n0 = 10**3  # Densité de nombre en m^-3\n",
    "phi = np.radians(5)  # Angle phi en radians\n",
    "tetav = np.radians(0)  # Angle tetav en radians\n",
    "\n",
    "# Fonctions pour C_BM et C_ST\n",
    "def C_BM(E, n0, mp, c):\n",
    "    return np.sqrt(17 * E / (8 * np.pi * n0 * mp * c**5))\n",
    "\n",
    "def C_ST(E, n0, mp, c):\n",
    "    return (2/5) * 1.15 * (E / (n0 * mp * c**5))**(1/5)\n",
    "\n",
    "# Calculer le rayon R pour un temps T donné et un angle theta\n",
    "def R(T, mu, c):\n",
    "    return c * T / mu\n",
    "\n",
    "# Générer les valeurs de T et theta\n",
    "T_values = np.linspace(10**0 * 86400, 10**4 * 86400, 5)  # Temps observé en secondes (1 jour à 10000 jours)\n",
    "theta_values = np.linspace(0, np.pi/2, 100)  # Angles polaires\n",
    "\n",
    "# Fonction pour calculer mu\n",
    "def calculate_mu(theta, phi, tetav):\n",
    "    return np.sin(theta) * np.sin(tetav) * np.cos(phi) + np.cos(theta) * np.cos(tetav)"
   ]
  },
  {
   "cell_type": "code",
   "execution_count": null,
   "metadata": {},
   "outputs": [],
   "source": []
  }
 ],
 "metadata": {
  "kernelspec": {
   "display_name": "ProjetInfo",
   "language": "python",
   "name": "python3"
  },
  "language_info": {
   "codemirror_mode": {
    "name": "ipython",
    "version": 3
   },
   "file_extension": ".py",
   "mimetype": "text/x-python",
   "name": "python",
   "nbconvert_exporter": "python",
   "pygments_lexer": "ipython3",
   "version": "3.11.7"
  }
 },
 "nbformat": 4,
 "nbformat_minor": 2
}
