{
 "cells": [
  {
   "cell_type": "markdown",
   "metadata": {},
   "source": [
    "## Projet gamma"
   ]
  },
  {
   "cell_type": "markdown",
   "metadata": {},
   "source": [
    "## Variable : gamma "
   ]
  },
  {
   "cell_type": "code",
   "execution_count": 2,
   "metadata": {},
   "outputs": [
    {
     "ename": "ModuleNotFoundError",
     "evalue": "No module named 'scipy'",
     "output_type": "error",
     "traceback": [
      "\u001b[0;31m---------------------------------------------------------------------------\u001b[0m",
      "\u001b[0;31mModuleNotFoundError\u001b[0m                       Traceback (most recent call last)",
      "Cell \u001b[0;32mIn[2], line 1\u001b[0m\n\u001b[0;32m----> 1\u001b[0m \u001b[39mimport\u001b[39;00m \u001b[39mscipy\u001b[39;00m\n\u001b[1;32m      2\u001b[0m \u001b[39mfrom\u001b[39;00m \u001b[39mmatplotlib\u001b[39;00m \u001b[39mimport\u001b[39;00m \u001b[39m*\u001b[39m\n\u001b[1;32m      3\u001b[0m \u001b[39mimport\u001b[39;00m \u001b[39mnumpy\u001b[39;00m \u001b[39mas\u001b[39;00m \u001b[39mnp\u001b[39;00m\n",
      "\u001b[0;31mModuleNotFoundError\u001b[0m: No module named 'scipy'"
     ]
    }
   ],
   "source": [
    "import scipy\n",
    "from matplotlib import *\n",
    "import numpy as np\n",
    "import random as rd"
   ]
  },
  {
   "cell_type": "code",
   "execution_count": 32,
   "metadata": {},
   "outputs": [],
   "source": [
    "##fonctions de Bessel \n",
    "def K1(x) :\n",
    "    return scipy.special.kn(1, x)\n",
    "\n",
    "def K2(x) :\n",
    "    return scipy.special.kn(2, x)\n",
    "\n",
    "def K3(x) :\n",
    "    return scipy.special.kn(3, x)\n",
    "\n",
    "## constantes de scipy \n",
    "mp = scipy.constants.m_p\n",
    "c = scipy.constants.c\n",
    "kB = scipy.constants.k\n",
    "\n",
    "## constantes du sujet \n",
    "T_prime = 10**14 # en Kelvin bien sûr "
   ]
  },
  {
   "cell_type": "code",
   "execution_count": 35,
   "metadata": {},
   "outputs": [
    {
     "name": "stdout",
     "output_type": "stream",
     "text": [
      "0.10888195450003046 27.606457604410785 1.3451890698326836\n"
     ]
    }
   ],
   "source": [
    "zeta = mp * c**2/(kB*T_prime)\n",
    "gamma_maj = K3(zeta) /K2(zeta) - 1/zeta\n",
    "gamma_chapeau_prime = 1 + 4*K2(zeta)/(zeta*(3*K3(zeta) + K1(zeta) - 4*K2(zeta)))\n",
    "print(zeta, gamma_maj, gamma_chapeau_prime)"
   ]
  },
  {
   "cell_type": "code",
   "execution_count": 1,
   "metadata": {},
   "outputs": [
    {
     "ename": "NameError",
     "evalue": "name 'alpha_nu' is not defined",
     "output_type": "error",
     "traceback": [
      "\u001b[0;31m---------------------------------------------------------------------------\u001b[0m",
      "\u001b[0;31mNameError\u001b[0m                                 Traceback (most recent call last)",
      "Cell \u001b[0;32mIn[1], line 1\u001b[0m\n\u001b[0;32m----> 1\u001b[0m tau_nu \u001b[39m=\u001b[39m alpha_nu\u001b[39m*\u001b[39mdelta_s\n",
      "\u001b[0;31mNameError\u001b[0m: name 'alpha_nu' is not defined"
     ]
    }
   ],
   "source": [
    "alpha_nu = gamma_maj*(1-beta*mu)*alpha_prime_nu_prime\n",
    "delta_s = R/(12*np.abs(mu - beta_sh)*gamma_maj**2)\n",
    "tau_nu = alpha_nu*delta_s"
   ]
  },
  {
   "cell_type": "code",
   "execution_count": null,
   "metadata": {},
   "outputs": [],
   "source": []
  }
 ],
 "metadata": {
  "kernelspec": {
   "display_name": "--gamma",
   "language": "python",
   "name": "python3"
  },
  "language_info": {
   "codemirror_mode": {
    "name": "ipython",
    "version": 3
   },
   "file_extension": ".py",
   "mimetype": "text/x-python",
   "name": "python",
   "nbconvert_exporter": "python",
   "pygments_lexer": "ipython3",
   "version": "3.9.6"
  },
  "orig_nbformat": 4
 },
 "nbformat": 4,
 "nbformat_minor": 2
}
