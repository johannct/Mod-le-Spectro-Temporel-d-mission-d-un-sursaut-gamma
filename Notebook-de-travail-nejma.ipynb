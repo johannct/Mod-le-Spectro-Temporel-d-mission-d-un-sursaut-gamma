{
 "cells": [
  {
   "cell_type": "markdown",
   "metadata": {},
   "source": [
    "## Projet gamma"
   ]
  },
  {
   "cell_type": "markdown",
   "metadata": {},
   "source": [
    "## Variable : gamma "
   ]
  },
  {
   "cell_type": "code",
   "execution_count": 50,
   "metadata": {},
   "outputs": [],
   "source": [
    "import scipy\n",
    "from matplotlib import *\n",
    "import random as rd\n",
    "import numpy as np"
   ]
  },
  {
   "cell_type": "code",
   "execution_count": 51,
   "metadata": {},
   "outputs": [],
   "source": [
    "##fonctions de Bessel \n",
    "def K1(x) :\n",
    "    return scipy.special.kn(1, x)\n",
    "\n",
    "def K2(x) :\n",
    "    return scipy.special.kn(2, x)\n",
    "\n",
    "def K3(x) :\n",
    "    return scipy.special.kn(3, x)\n",
    "\n",
    "## constantes de scipy \n",
    "mp = scipy.constants.m_p\n",
    "c = scipy.constants.c\n",
    "kB = scipy.constants.k\n",
    "\n",
    "## constantes du sujet \n",
    "T_prime = 10**14 # en Kelvin bien sûr "
   ]
  },
  {
   "cell_type": "code",
   "execution_count": 53,
   "metadata": {},
   "outputs": [
    {
     "name": "stdout",
     "output_type": "stream",
     "text": [
      "0.10888195450003046 27.606457604410785 1.3451890698326836 0.9993437169728617\n"
     ]
    }
   ],
   "source": [
    "zeta = mp * c**2/(kB*T_prime)\n",
    "gamma_maj = K3(zeta) /K2(zeta) - 1/zeta\n",
    "gamma_chapeau_prime = 1 + 4*K2(zeta)/(zeta*(3*K3(zeta) + K1(zeta) - 4*K2(zeta)))\n",
    "beta = np.sqrt(1 - 1/(gamma_maj**2))\n",
    "print(zeta, gamma_maj, gamma_chapeau_prime, beta)"
   ]
  }
 ],
 "metadata": {
  "kernelspec": {
   "display_name": "--gamma",
   "language": "python",
   "name": "python3"
  },
  "language_info": {
   "codemirror_mode": {
    "name": "ipython",
    "version": 3
   },
   "file_extension": ".py",
   "mimetype": "text/x-python",
   "name": "python",
   "nbconvert_exporter": "python",
   "pygments_lexer": "ipython3",
   "version": "3.11.7"
  },
  "orig_nbformat": 4
 },
 "nbformat": 4,
 "nbformat_minor": 2
}
