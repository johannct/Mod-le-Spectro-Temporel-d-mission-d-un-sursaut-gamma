{
 "cells": [
  {
   "cell_type": "markdown",
   "metadata": {},
   "source": [
    "## Projet gamma"
   ]
  },
  {
   "cell_type": "markdown",
   "metadata": {},
   "source": [
    "## Variable : gamma "
   ]
  },
  {
   "cell_type": "code",
   "execution_count": 3,
   "metadata": {},
   "outputs": [
    {
     "name": "stdout",
     "output_type": "stream",
     "text": [
      "Intel MKL WARNING: Support of Intel(R) Streaming SIMD Extensions 4.2 (Intel(R) SSE4.2) enabled only processors has been deprecated. Intel oneAPI Math Kernel Library 2025.0 will require Intel(R) Advanced Vector Extensions (Intel(R) AVX) instructions.\n",
      "Intel MKL WARNING: Support of Intel(R) Streaming SIMD Extensions 4.2 (Intel(R) SSE4.2) enabled only processors has been deprecated. Intel oneAPI Math Kernel Library 2025.0 will require Intel(R) Advanced Vector Extensions (Intel(R) AVX) instructions.\n"
     ]
    }
   ],
   "source": [
    "import scipy\n",
    "from matplotlib import *\n",
    "import random as rd"
   ]
  },
  {
   "cell_type": "code",
   "execution_count": 32,
   "metadata": {},
   "outputs": [],
   "source": [
    "##fonctions de Bessel \n",
    "def K1(x) :\n",
    "    return scipy.special.kn(1, x)\n",
    "\n",
    "def K2(x) :\n",
    "    return scipy.special.kn(2, x)\n",
    "\n",
    "def K3(x) :\n",
    "    return scipy.special.kn(3, x)\n",
    "\n",
    "## constantes de scipy \n",
    "mp = scipy.constants.m_p\n",
    "c = scipy.constants.c\n",
    "kB = scipy.constants.k\n",
    "\n",
    "## constantes du sujet \n",
    "T_prime = 10**14 # en Kelvin bien sûr "
   ]
  },
  {
   "cell_type": "code",
   "execution_count": 35,
   "metadata": {},
   "outputs": [
    {
     "name": "stdout",
     "output_type": "stream",
     "text": [
      "0.10888195450003046 27.606457604410785 1.3451890698326836\n"
     ]
    }
   ],
   "source": [
    "zeta = mp * c**2/(kB*T_prime)\n",
    "gamma_maj = K3(zeta) /K2(zeta) - 1/zeta\n",
    "gamma_chapeau_prime = 1 + 4*K2(zeta)/(zeta*(3*K3(zeta) + K1(zeta) - 4*K2(zeta)))\n",
    "print(zeta, gamma_maj, gamma_chapeau_prime)"
   ]
  }
 ],
 "metadata": {
  "kernelspec": {
   "display_name": "--gamma",
   "language": "python",
   "name": "python3"
  },
  "language_info": {
   "codemirror_mode": {
    "name": "ipython",
    "version": 3
   },
   "file_extension": ".py",
   "mimetype": "text/x-python",
   "name": "python",
   "nbconvert_exporter": "python",
   "pygments_lexer": "ipython3",
   "version": "3.11.7"
  },
  "orig_nbformat": 4
 },
 "nbformat": 4,
 "nbformat_minor": 2
}
