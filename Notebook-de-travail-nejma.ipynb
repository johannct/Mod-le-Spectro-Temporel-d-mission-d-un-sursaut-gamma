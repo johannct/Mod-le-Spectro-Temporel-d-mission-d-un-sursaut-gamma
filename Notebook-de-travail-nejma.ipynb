{
 "cells": [
  {
   "cell_type": "markdown",
   "metadata": {},
   "source": [
    "## Projet gamma"
   ]
  },
  {
   "cell_type": "markdown",
   "metadata": {},
   "source": [
    "## Variable : gamma "
   ]
  },
  {
   "cell_type": "code",
   "execution_count": 3,
   "metadata": {},
   "outputs": [
    {
     "ename": "ModuleNotFoundError",
     "evalue": "No module named 'scipy'",
     "output_type": "error",
     "traceback": [
      "\u001b[0;31m---------------------------------------------------------------------------\u001b[0m",
      "\u001b[0;31mModuleNotFoundError\u001b[0m                       Traceback (most recent call last)",
      "Cell \u001b[0;32mIn[3], line 1\u001b[0m\n\u001b[0;32m----> 1\u001b[0m \u001b[39mimport\u001b[39;00m \u001b[39mscipy\u001b[39;00m\n\u001b[1;32m      2\u001b[0m \u001b[39mfrom\u001b[39;00m \u001b[39mmatplotlib\u001b[39;00m \u001b[39mimport\u001b[39;00m \u001b[39m*\u001b[39m\n\u001b[1;32m      3\u001b[0m \u001b[39mimport\u001b[39;00m \u001b[39mnumpy\u001b[39;00m \u001b[39mas\u001b[39;00m \u001b[39mnp\u001b[39;00m\n",
      "\u001b[0;31mModuleNotFoundError\u001b[0m: No module named 'scipy'"
     ]
    }
   ],
   "source": [
    "import scipy\n",
    "from matplotlib import *\n",
    "import numpy as np\n",
    "import random as rd"
   ]
  },
  {
   "cell_type": "code",
   "execution_count": 32,
   "metadata": {},
   "outputs": [],
   "source": [
    "##fonctions de Bessel \n",
    "def K1(x) :\n",
    "    return scipy.special.kn(1, x)\n",
    "\n",
    "def K2(x) :\n",
    "    return scipy.special.kn(2, x)\n",
    "\n",
    "def K3(x) :\n",
    "    return scipy.special.kn(3, x)\n",
    "\n",
    "## constantes de scipy \n",
    "mp = scipy.constants.m_p\n",
    "c = scipy.constants.c\n",
    "kB = scipy.constants.k\n",
    "\n",
    "## constantes du sujet \n",
    "T_prime = 10**14 # en Kelvin bien sûr "
   ]
  },
  {
   "cell_type": "code",
   "execution_count": 35,
   "metadata": {},
   "outputs": [
    {
     "name": "stdout",
     "output_type": "stream",
     "text": [
      "0.10888195450003046 27.606457604410785 1.3451890698326836\n"
     ]
    }
   ],
   "source": [
    "zeta = mp * c**2/(kB*T_prime)\n",
    "gamma_maj = K3(zeta) /K2(zeta) - 1/zeta\n",
    "gamma_chapeau_prime = 1 + 4*K2(zeta)/(zeta*(3*K3(zeta) + K1(zeta) - 4*K2(zeta)))\n",
    "print(zeta, gamma_maj, gamma_chapeau_prime)"
   ]
  },
  {
   "cell_type": "code",
   "execution_count": 1,
   "metadata": {},
   "outputs": [
    {
     "ename": "ModuleNotFoundError",
     "evalue": "No module named 'alpha_prime_nu_prime'",
     "output_type": "error",
     "traceback": [
      "\u001b[0;31m---------------------------------------------------------------------------\u001b[0m",
      "\u001b[0;31mModuleNotFoundError\u001b[0m                       Traceback (most recent call last)",
      "Cell \u001b[0;32mIn[1], line 1\u001b[0m\n\u001b[0;32m----> 1\u001b[0m \u001b[39mfrom\u001b[39;00m \u001b[39malpha_prime_nu_prime\u001b[39;00m \u001b[39mimport\u001b[39;00m alpha_prime_nu_prime\n\u001b[1;32m      3\u001b[0m alpha_nu \u001b[39m=\u001b[39m gamma_maj\u001b[39m*\u001b[39m(\u001b[39m1\u001b[39m\u001b[39m-\u001b[39mbeta\u001b[39m*\u001b[39mmu)\u001b[39m*\u001b[39malpha_prime_nu_prime\n\u001b[1;32m      4\u001b[0m delta_s \u001b[39m=\u001b[39m R\u001b[39m/\u001b[39m(\u001b[39m12\u001b[39m\u001b[39m*\u001b[39mnp\u001b[39m.\u001b[39mabs(mu \u001b[39m-\u001b[39m beta_sh)\u001b[39m*\u001b[39mgamma_maj\u001b[39m*\u001b[39m\u001b[39m*\u001b[39m\u001b[39m2\u001b[39m)\n",
      "\u001b[0;31mModuleNotFoundError\u001b[0m: No module named 'alpha_prime_nu_prime'"
     ]
    }
   ],
   "source": [
    "from alpha_prim_nu_prim import alpha_prime_nu_prime\n",
    "\n",
    "alpha_nu = gamma_maj*(1-beta*mu)*alpha_prime_nu_prime\n",
    "delta_s = R/(12*np.abs(mu - beta_sh)*gamma_maj**2)\n",
    "tau_nu = alpha_nu*delta_s"
   ]
  },
  {
   "cell_type": "code",
   "execution_count": null,
   "metadata": {},
   "outputs": [],
   "source": [
    "gamma_sh = sqrt((gamma_maj+1)/(2+gamma_chapeau_prime*(2-gamma_chapeau_prime)*(gamma_maj-1)))*(1+gamma_chapeau_prime*(gamma_maj-1))"
   ]
  },
  {
   "cell_type": "code",
   "execution_count": null,
   "metadata": {},
   "outputs": [],
   "source": [
    "e_i_prime = n_prime*m_p*(c**2)*(gamma - 1) \n",
    "b_prime = np.sqrt(8*np.pi()*epsilon_b*e_i_prime)\n",
    "n_prime_r = n_prime*min(1, (m_p*(p-2)*epsilon_e*(gamma-1))/(m_e(p-1)))\n"
   ]
  }
 ],
 "metadata": {
  "kernelspec": {
   "display_name": "--gamma",
   "language": "python",
   "name": "python3"
  },
  "language_info": {
   "codemirror_mode": {
    "name": "ipython",
    "version": 3
   },
   "file_extension": ".py",
   "mimetype": "text/x-python",
   "name": "python",
   "nbconvert_exporter": "python",
   "pygments_lexer": "ipython3",
   "version": "3.11.7"
  },
  "orig_nbformat": 4
 },
 "nbformat": 4,
 "nbformat_minor": 2
}
