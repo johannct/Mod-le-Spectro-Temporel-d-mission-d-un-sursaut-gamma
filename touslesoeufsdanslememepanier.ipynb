{
 "cells": [
  {
   "cell_type": "code",
   "execution_count": null,
   "metadata": {},
   "outputs": [],
   "source": [
    "import numpy as np \n",
    "import matplotlib.pyplot as plt\n",
    "import numba as nb\n",
    "import cython as cy\n",
    "import scipy\n",
    "import const\n",
    "from scipy.special import gamma\n",
    "from scipy import *\n",
    "from scipy.integrate import odeint\n",
    "import math as m"
   ]
  },
  {
   "cell_type": "code",
   "execution_count": null,
   "metadata": {},
   "outputs": [],
   "source": [
    "def min(a, b):\n",
    "    if a < b:\n",
    "        return a\n",
    "    else:\n",
    "        return b\n",
    "#TODO: implement p_tildt when y'm  < y'c\n",
    "#todo : beta's\n",
    "def p_tildt(gamma_prime_c, gamma_prime_m): \n",
    "    if gamma_prime_m >= gamma_prime_c:\n",
    "        return 2 \n",
    "    else:\n",
    "        return (3 * beta_u * - 2 * beta_u * beta_d ** 2 + beta_d ** 3) / (beta_u - beta_d) - 2\n",
    "\n",
    "#TODO: n'R à rajouter, et b_prime  \n",
    "def c_11(nu_prime, nu_prime_c, nu_prime_m, gamma_prime_m, gamma_prime_c):\n",
    "    p_tildt = p_tildt(gamma_prime_c, gamma_prime_m)\n",
    "    nu_min = min(nu_prime_m, nu_prime_c)\n",
    "    gamma_min = min(gamma_prime_m, gamma_prime_c)\n",
    "    return 2 ** 6 *const.pi ** (5/6) * (p_tildt + 2) * (p_tildt - 1) * const.q_e * n_prime_r / (15 * (3*p_tildt + 2) * gamma(5 / 6) * gamma_min ** 5 * b_prime) * (nu_prime / nu_min) ** (-5/3)\n",
    "\n",
    "#TODO: n'R et b_prime à rajouter\n",
    "def c_14(nu_prime, nu_prime_c, nu_prime_m, gamma_prime_m, gamma_prime_c):\n",
    "    p_tildt = p_tildt(gamma_prime_c, gamma_prime_m)\n",
    "    nu_min = min(nu_prime_m, nu_prime_c)\n",
    "    gamma_min = min(gamma_prime_m, gamma_prime_c)\n",
    "    return (2 ** ((3*p_tildt + 8) / 2) * (p_tildt - 1) * gamma(3/2 + p_tildt/4) * gamma(1/6 + p_tildt/4) * const.q_e * n_prime_r ) / (3**(3/2) * const.pi **((p_tildt + 1 )/2) * gamma(2 + p_tildt/4) * gamma_min ** 5 *b_prime) *(nu_prime / nu_min) ** (-(p_tildt + 4) / 2)\n",
    "\n",
    "def nu_prime_zero(nu_prime_min): \n",
    "    return ((5*(3 * p_tildt +2) * gamma(3/2 + p_tildt/4) *gamma(11/6 + p_tildt/4) * gamma(1/6 + p_tildt/4) * gamma(5/6)) / (p_tildt + 2) * gamma(2 + p_tildt/4))** (6 / (3*p_tildt +2)) * ((2**( 3 * (3 * p_tildt -4))) / (27 * const.pi ** (3*p_tildt + 8) )) ** (1 / (3*p_tildt + 2)) * nu_prime_min\n",
    "\n",
    "def alpha_prime_nu_prime(nu_prime, nu_prime_c, nu_prime_m, gamma_prime_m, gamma_prime_c):\n",
    "    p_tildt = p_tildt(gamma_prime_c, gamma_prime_m)\n",
    "    nu_min = min(nu_prime_m, nu_prime_c)\n",
    "    nu_zero = nu_prime_zero(nu_min)\n",
    "    if nu_prime < nu_zero:\n",
    "        alpha_prime_nu_prime_zero = c_11(nu_zero, nu_prime_c, nu_prime_m, gamma_prime_m, gamma_prime_c)\n",
    "        eta =  -5/3\n",
    "    else : \n",
    "        alpha_prime_nu_prime_zero = c_14(nu_zero, nu_prime_c, nu_prime_m, gamma_prime_m, gamma_prime_c)\n",
    "        eta = -(p_tildt + 4) / 2\n",
    "    return alpha_prime_nu_prime_zero * (nu_prime / nu_zero) ** eta\n",
    "#TODO: improt gamma_maj, find value of beta and mu\n",
    "\n",
    "def nu_prime(nu, xi, beta, mu):\n",
    "    return gamma_maj(xi) * (1 - beta * mu) * nu \n",
    "\n",
    "\n",
    "'''\n",
    "Plotting phase : \n",
    "'''\n",
    "#Plotting with gamma_sh as parameter knowing that xi is a function of gamma_sh\n",
    "\n",
    "gamma_sh = np.linspace(1.2, 100, 100)"
   ]
  }
 ],
 "metadata": {
  "kernelspec": {
   "display_name": "ue22",
   "language": "python",
   "name": "python3"
  },
  "language_info": {
   "name": "python",
   "version": "3.6.13"
  }
 },
 "nbformat": 4,
 "nbformat_minor": 2
}
